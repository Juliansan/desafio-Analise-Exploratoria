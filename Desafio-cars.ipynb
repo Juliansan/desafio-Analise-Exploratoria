{
 "cells": [
  {
   "cell_type": "markdown",
   "source": [
    "# Analisando o conjunto de dados de carros usados das Empresas Autotrader e carfax\n",
    "\n",
    "Definição dos dados:\n",
    "- **id:** Número de identificação do carro\n",
    "- **brand:** Marca do carro\n",
    "- **model:** Modelo do carro\n",
    "- **year:** Ano de fabricação do carro\n",
    "- **miles:** Milhas rodadas pelo carro\n",
    "- **city_mileage:** Milhas rodadas pelo carro na cidade\n",
    "- **highway_mileage:** Milhas rodadas pelo carro na estrada\n",
    "- **horsepower:** Potência do carro\n",
    "- **torque:** Torque do carro\n",
    "- **engine_capacity_litre:** Capacidade do motor em litros\n",
    "- **fuel_capacity:** Capacidade do tanque de combustível\n",
    "- **num_cylinder:** Número de cilindros\n",
    "- **num_seat:** Número de assentos\n",
    "- **num_owners:** Número de donos\n",
    "- **price:** Preço do carro\n",
    "- **link:** Link do carro\n",
    "- **condition:** Condição do carro\n",
    "- **type:** Tipo do carro\n",
    "- **doors:** Número de portas\n",
    "- **wheel_drive:** Tração do carro\n",
    "- **engine_type:** Tipo de motor\n",
    "- **speed_levels:** Número de velocidades\n",
    "- **front_headroom:** Altura da cabeça na frente\n",
    "- **front_legroom:** Altura da perna na frente\n",
    "- **rear_headroom:** Altura da cabeça atrás\n",
    "- **rear_legroom:** Altura da perna atrás\n",
    "- **service_records:** Registros de serviço"
   ],
   "metadata": {
    "collapsed": false
   },
   "id": "e7992da7c93d98f9"
  },
  {
   "cell_type": "code",
   "execution_count": 1,
   "outputs": [],
   "source": [
    "# Importando as bibliotecas\n",
    "import pandas as pd"
   ],
   "metadata": {
    "collapsed": false,
    "ExecuteTime": {
     "end_time": "2023-12-08T16:56:37.419939Z",
     "start_time": "2023-12-08T16:56:37.089683Z"
    }
   },
   "id": "e070957b9ea386fc"
  },
  {
   "cell_type": "code",
   "execution_count": 17,
   "outputs": [],
   "source": [
    "# Importando os dados\n",
    "carros = pd.read_csv(\"Data/cars.csv\", sep = \",\", na_values = [\"NaN\", \"na\", \"N/A\", \"\"])"
   ],
   "metadata": {
    "collapsed": false,
    "ExecuteTime": {
     "end_time": "2023-12-08T17:07:31.600845Z",
     "start_time": "2023-12-08T17:07:31.593561Z"
    }
   },
   "id": "f790bb3c48438ab6"
  },
  {
   "cell_type": "code",
   "execution_count": 18,
   "outputs": [
    {
     "data": {
      "text/plain": "   id      brand       model  year  miles  city_mileage  highway_mileage  \\\n0   3  Chevrolet     Volt LT  2019  27173            43               42   \n1   6    Hyundai  Elantra SE  2017  76941            29               38   \n2   7       Ford       Focus  2014  97027            27               37   \n3   8      Honda       Civic  2016  95396            31               42   \n4   9    Hyundai  Elantra SE  2019  28405            29               38   \n\n   horsepower  torque  engine_capacity_litre  ...   type  doors  wheel_drive  \\\n0         149     294                    1.5  ...  sedan      4            2   \n1         146     132                    2.0  ...  sedan      4            2   \n2         159     146                    2.0  ...  sedan      4            2   \n3         158     138                    1.5  ...  sedan      4            2   \n4         147     132                    2.0  ...  sedan      4            2   \n\n           engine_type  speed_levels front_headroom  front_legroom  \\\n0  hybrid_gas_electric           6.0           37.8           42.1   \n1                  gas           6.0           39.0           42.2   \n2                  gas           6.0           38.3           43.7   \n3                  gas           6.0           37.5           42.3   \n4                  gas           6.0           39.0           42.2   \n\n  rear_headroom  rear_legroom  service_records  \n0          35.8          34.7                4  \n1          37.0          35.7               16  \n2          38.0          33.2               13  \n3          36.8          37.4               26  \n4          37.0          35.7                5  \n\n[5 rows x 27 columns]",
      "text/html": "<div>\n<style scoped>\n    .dataframe tbody tr th:only-of-type {\n        vertical-align: middle;\n    }\n\n    .dataframe tbody tr th {\n        vertical-align: top;\n    }\n\n    .dataframe thead th {\n        text-align: right;\n    }\n</style>\n<table border=\"1\" class=\"dataframe\">\n  <thead>\n    <tr style=\"text-align: right;\">\n      <th></th>\n      <th>id</th>\n      <th>brand</th>\n      <th>model</th>\n      <th>year</th>\n      <th>miles</th>\n      <th>city_mileage</th>\n      <th>highway_mileage</th>\n      <th>horsepower</th>\n      <th>torque</th>\n      <th>engine_capacity_litre</th>\n      <th>...</th>\n      <th>type</th>\n      <th>doors</th>\n      <th>wheel_drive</th>\n      <th>engine_type</th>\n      <th>speed_levels</th>\n      <th>front_headroom</th>\n      <th>front_legroom</th>\n      <th>rear_headroom</th>\n      <th>rear_legroom</th>\n      <th>service_records</th>\n    </tr>\n  </thead>\n  <tbody>\n    <tr>\n      <th>0</th>\n      <td>3</td>\n      <td>Chevrolet</td>\n      <td>Volt LT</td>\n      <td>2019</td>\n      <td>27173</td>\n      <td>43</td>\n      <td>42</td>\n      <td>149</td>\n      <td>294</td>\n      <td>1.5</td>\n      <td>...</td>\n      <td>sedan</td>\n      <td>4</td>\n      <td>2</td>\n      <td>hybrid_gas_electric</td>\n      <td>6.0</td>\n      <td>37.8</td>\n      <td>42.1</td>\n      <td>35.8</td>\n      <td>34.7</td>\n      <td>4</td>\n    </tr>\n    <tr>\n      <th>1</th>\n      <td>6</td>\n      <td>Hyundai</td>\n      <td>Elantra SE</td>\n      <td>2017</td>\n      <td>76941</td>\n      <td>29</td>\n      <td>38</td>\n      <td>146</td>\n      <td>132</td>\n      <td>2.0</td>\n      <td>...</td>\n      <td>sedan</td>\n      <td>4</td>\n      <td>2</td>\n      <td>gas</td>\n      <td>6.0</td>\n      <td>39.0</td>\n      <td>42.2</td>\n      <td>37.0</td>\n      <td>35.7</td>\n      <td>16</td>\n    </tr>\n    <tr>\n      <th>2</th>\n      <td>7</td>\n      <td>Ford</td>\n      <td>Focus</td>\n      <td>2014</td>\n      <td>97027</td>\n      <td>27</td>\n      <td>37</td>\n      <td>159</td>\n      <td>146</td>\n      <td>2.0</td>\n      <td>...</td>\n      <td>sedan</td>\n      <td>4</td>\n      <td>2</td>\n      <td>gas</td>\n      <td>6.0</td>\n      <td>38.3</td>\n      <td>43.7</td>\n      <td>38.0</td>\n      <td>33.2</td>\n      <td>13</td>\n    </tr>\n    <tr>\n      <th>3</th>\n      <td>8</td>\n      <td>Honda</td>\n      <td>Civic</td>\n      <td>2016</td>\n      <td>95396</td>\n      <td>31</td>\n      <td>42</td>\n      <td>158</td>\n      <td>138</td>\n      <td>1.5</td>\n      <td>...</td>\n      <td>sedan</td>\n      <td>4</td>\n      <td>2</td>\n      <td>gas</td>\n      <td>6.0</td>\n      <td>37.5</td>\n      <td>42.3</td>\n      <td>36.8</td>\n      <td>37.4</td>\n      <td>26</td>\n    </tr>\n    <tr>\n      <th>4</th>\n      <td>9</td>\n      <td>Hyundai</td>\n      <td>Elantra SE</td>\n      <td>2019</td>\n      <td>28405</td>\n      <td>29</td>\n      <td>38</td>\n      <td>147</td>\n      <td>132</td>\n      <td>2.0</td>\n      <td>...</td>\n      <td>sedan</td>\n      <td>4</td>\n      <td>2</td>\n      <td>gas</td>\n      <td>6.0</td>\n      <td>39.0</td>\n      <td>42.2</td>\n      <td>37.0</td>\n      <td>35.7</td>\n      <td>5</td>\n    </tr>\n  </tbody>\n</table>\n<p>5 rows × 27 columns</p>\n</div>"
     },
     "execution_count": 18,
     "metadata": {},
     "output_type": "execute_result"
    }
   ],
   "source": [
    "carros.head()"
   ],
   "metadata": {
    "collapsed": false,
    "ExecuteTime": {
     "end_time": "2023-12-08T17:07:32.111646Z",
     "start_time": "2023-12-08T17:07:32.108295Z"
    }
   },
   "id": "42021804138bad2e"
  },
  {
   "cell_type": "markdown",
   "source": [
    "## Análise Exploratória dos Dados\n"
   ],
   "metadata": {
    "collapsed": false
   },
   "id": "875db62d7e2d3f48"
  },
  {
   "cell_type": "code",
   "execution_count": 19,
   "outputs": [
    {
     "data": {
      "text/plain": "(52, 27)"
     },
     "execution_count": 19,
     "metadata": {},
     "output_type": "execute_result"
    }
   ],
   "source": [
    "# Verificando o tamanho do dataset\n",
    "carros.shape"
   ],
   "metadata": {
    "collapsed": false,
    "ExecuteTime": {
     "end_time": "2023-12-08T17:07:33.454660Z",
     "start_time": "2023-12-08T17:07:33.447932Z"
    }
   },
   "id": "28ac5d84220c7f47"
  },
  {
   "cell_type": "code",
   "execution_count": 24,
   "outputs": [
    {
     "data": {
      "text/plain": "id                        0\nbrand                     0\nmodel                     0\nyear                      0\nmiles                     0\ncity_mileage              0\nhighway_mileage           0\nhorsepower                0\ntorque                    0\nengine_capacity_litre     0\nfuel_capacity             0\nnum_cylinder              0\nnum_seat                  0\nnum_owners                0\nprice                     0\nlink                      0\ncondition                51\ntype                      0\ndoors                     0\nwheel_drive               0\nengine_type               0\nspeed_levels              1\nfront_headroom            0\nfront_legroom             0\nrear_headroom             0\nrear_legroom              0\nservice_records           0\ndtype: int64"
     },
     "execution_count": 24,
     "metadata": {},
     "output_type": "execute_result"
    }
   ],
   "source": [
    "# Verificando os dados faltantes\n",
    "carros.isnull().sum()"
   ],
   "metadata": {
    "collapsed": false,
    "ExecuteTime": {
     "end_time": "2023-12-08T17:08:32.965693Z",
     "start_time": "2023-12-08T17:08:32.961495Z"
    }
   },
   "id": "ccf613a1a0cfcd42"
  },
  {
   "cell_type": "markdown",
   "source": [
    "### Limpeza dos dados"
   ],
   "metadata": {
    "collapsed": false
   },
   "id": "d86a1e21e786b3f0"
  },
  {
   "cell_type": "code",
   "execution_count": 27,
   "outputs": [],
   "source": [
    "# Transformando coluna link em empresa\n",
    "carros[\"empresa\"] = carros[\"link\"].str.split(\"/\").str[2].replace({\"www.autotrader.com\": \"Autotrader\", \"www.carfax.com\": \"Carfax\", \"www.carvana.com\": \"Carvana\"})"
   ],
   "metadata": {
    "collapsed": false,
    "ExecuteTime": {
     "end_time": "2023-12-08T17:12:10.054991Z",
     "start_time": "2023-12-08T17:12:10.047701Z"
    }
   },
   "id": "9e276db7252b0b36"
  },
  {
   "cell_type": "code",
   "execution_count": 28,
   "outputs": [],
   "source": [
    "# Removendo as colunas que não serão utilizadas\n",
    "carros.drop([\"id\", \"link\", \"condition\"], axis = 1, inplace = True)"
   ],
   "metadata": {
    "collapsed": false,
    "ExecuteTime": {
     "end_time": "2023-12-08T17:12:17.333202Z",
     "start_time": "2023-12-08T17:12:17.320283Z"
    }
   },
   "id": "81244d0f2f3011cc"
  },
  {
   "cell_type": "code",
   "execution_count": 31,
   "outputs": [],
   "source": [
    "# Removendo os dados faltantes\n",
    "carros.dropna(inplace = True)"
   ],
   "metadata": {
    "collapsed": false,
    "ExecuteTime": {
     "end_time": "2023-12-08T17:15:40.158698Z",
     "start_time": "2023-12-08T17:15:40.150799Z"
    }
   },
   "id": "f2c57db7252e8257"
  },
  {
   "cell_type": "code",
   "execution_count": 33,
   "outputs": [
    {
     "data": {
      "text/plain": "              year         miles  city_mileage  highway_mileage  horsepower  \\\ncount    51.000000     51.000000     51.000000        51.000000   51.000000   \nmean   2018.686275  33984.137255     28.745098        37.372549  176.176471   \nstd       1.406985  22918.580263      5.613709         4.161542   33.758973   \nmin    2014.000000   5000.000000     17.000000        24.000000  143.000000   \n25%    2018.000000  16328.500000     26.000000        35.500000  152.000000   \n50%    2019.000000  27440.000000     30.000000        38.000000  159.000000   \n75%    2019.500000  43085.000000     30.000000        40.000000  192.000000   \nmax    2022.000000  97027.000000     55.000000        49.000000  288.000000   \n\n           torque  engine_capacity_litre  fuel_capacity  num_cylinder  \\\ncount   51.000000              51.000000      51.000000     51.000000   \nmean   179.470588               1.839216      14.374510      4.039216   \nstd     46.376871               0.380567       2.418582      0.280056   \nmin     99.000000               1.400000       8.900000      4.000000   \n25%    138.000000               1.500000      12.400000      4.000000   \n50%    184.000000               2.000000      14.000000      4.000000   \n75%    192.000000               2.000000      15.300000      4.000000   \nmax    294.000000               3.500000      19.000000      6.000000   \n\n       num_seat  num_owners         price  doors  wheel_drive  speed_levels  \\\ncount      51.0   51.000000     51.000000   51.0    51.000000     51.000000   \nmean        5.0    1.352941  21660.764706    4.0     2.156863      6.313725   \nstd         0.0    0.626850   3488.385097    0.0     0.543049      0.761320   \nmin         5.0    1.000000  13590.000000    4.0     2.000000      6.000000   \n25%         5.0    1.000000  19496.000000    4.0     2.000000      6.000000   \n50%         5.0    1.000000  21998.000000    4.0     2.000000      6.000000   \n75%         5.0    2.000000  22994.000000    4.0     2.000000      6.000000   \nmax         5.0    3.000000  33777.000000    4.0     4.000000      9.000000   \n\n       front_headroom  front_legroom  rear_headroom  rear_legroom  \\\ncount       51.000000      51.000000      51.000000     51.000000   \nmean        38.672549      42.472549      37.241176     37.660784   \nstd          0.926300       1.054908       0.448186      1.607243   \nmin         37.500000      41.100000      35.800000     33.200000   \n25%         37.650000      42.200000      37.050000     37.400000   \n50%         38.500000      42.300000      37.200000     37.400000   \n75%         39.300000      42.400000      37.500000     38.300000   \nmax         40.400000      45.500000      38.000000     40.400000   \n\n       service_records  \ncount        51.000000  \nmean          7.431373  \nstd           4.700021  \nmin           1.000000  \n25%           4.000000  \n50%           6.000000  \n75%          10.000000  \nmax          26.000000  ",
      "text/html": "<div>\n<style scoped>\n    .dataframe tbody tr th:only-of-type {\n        vertical-align: middle;\n    }\n\n    .dataframe tbody tr th {\n        vertical-align: top;\n    }\n\n    .dataframe thead th {\n        text-align: right;\n    }\n</style>\n<table border=\"1\" class=\"dataframe\">\n  <thead>\n    <tr style=\"text-align: right;\">\n      <th></th>\n      <th>year</th>\n      <th>miles</th>\n      <th>city_mileage</th>\n      <th>highway_mileage</th>\n      <th>horsepower</th>\n      <th>torque</th>\n      <th>engine_capacity_litre</th>\n      <th>fuel_capacity</th>\n      <th>num_cylinder</th>\n      <th>num_seat</th>\n      <th>num_owners</th>\n      <th>price</th>\n      <th>doors</th>\n      <th>wheel_drive</th>\n      <th>speed_levels</th>\n      <th>front_headroom</th>\n      <th>front_legroom</th>\n      <th>rear_headroom</th>\n      <th>rear_legroom</th>\n      <th>service_records</th>\n    </tr>\n  </thead>\n  <tbody>\n    <tr>\n      <th>count</th>\n      <td>51.000000</td>\n      <td>51.000000</td>\n      <td>51.000000</td>\n      <td>51.000000</td>\n      <td>51.000000</td>\n      <td>51.000000</td>\n      <td>51.000000</td>\n      <td>51.000000</td>\n      <td>51.000000</td>\n      <td>51.0</td>\n      <td>51.000000</td>\n      <td>51.000000</td>\n      <td>51.0</td>\n      <td>51.000000</td>\n      <td>51.000000</td>\n      <td>51.000000</td>\n      <td>51.000000</td>\n      <td>51.000000</td>\n      <td>51.000000</td>\n      <td>51.000000</td>\n    </tr>\n    <tr>\n      <th>mean</th>\n      <td>2018.686275</td>\n      <td>33984.137255</td>\n      <td>28.745098</td>\n      <td>37.372549</td>\n      <td>176.176471</td>\n      <td>179.470588</td>\n      <td>1.839216</td>\n      <td>14.374510</td>\n      <td>4.039216</td>\n      <td>5.0</td>\n      <td>1.352941</td>\n      <td>21660.764706</td>\n      <td>4.0</td>\n      <td>2.156863</td>\n      <td>6.313725</td>\n      <td>38.672549</td>\n      <td>42.472549</td>\n      <td>37.241176</td>\n      <td>37.660784</td>\n      <td>7.431373</td>\n    </tr>\n    <tr>\n      <th>std</th>\n      <td>1.406985</td>\n      <td>22918.580263</td>\n      <td>5.613709</td>\n      <td>4.161542</td>\n      <td>33.758973</td>\n      <td>46.376871</td>\n      <td>0.380567</td>\n      <td>2.418582</td>\n      <td>0.280056</td>\n      <td>0.0</td>\n      <td>0.626850</td>\n      <td>3488.385097</td>\n      <td>0.0</td>\n      <td>0.543049</td>\n      <td>0.761320</td>\n      <td>0.926300</td>\n      <td>1.054908</td>\n      <td>0.448186</td>\n      <td>1.607243</td>\n      <td>4.700021</td>\n    </tr>\n    <tr>\n      <th>min</th>\n      <td>2014.000000</td>\n      <td>5000.000000</td>\n      <td>17.000000</td>\n      <td>24.000000</td>\n      <td>143.000000</td>\n      <td>99.000000</td>\n      <td>1.400000</td>\n      <td>8.900000</td>\n      <td>4.000000</td>\n      <td>5.0</td>\n      <td>1.000000</td>\n      <td>13590.000000</td>\n      <td>4.0</td>\n      <td>2.000000</td>\n      <td>6.000000</td>\n      <td>37.500000</td>\n      <td>41.100000</td>\n      <td>35.800000</td>\n      <td>33.200000</td>\n      <td>1.000000</td>\n    </tr>\n    <tr>\n      <th>25%</th>\n      <td>2018.000000</td>\n      <td>16328.500000</td>\n      <td>26.000000</td>\n      <td>35.500000</td>\n      <td>152.000000</td>\n      <td>138.000000</td>\n      <td>1.500000</td>\n      <td>12.400000</td>\n      <td>4.000000</td>\n      <td>5.0</td>\n      <td>1.000000</td>\n      <td>19496.000000</td>\n      <td>4.0</td>\n      <td>2.000000</td>\n      <td>6.000000</td>\n      <td>37.650000</td>\n      <td>42.200000</td>\n      <td>37.050000</td>\n      <td>37.400000</td>\n      <td>4.000000</td>\n    </tr>\n    <tr>\n      <th>50%</th>\n      <td>2019.000000</td>\n      <td>27440.000000</td>\n      <td>30.000000</td>\n      <td>38.000000</td>\n      <td>159.000000</td>\n      <td>184.000000</td>\n      <td>2.000000</td>\n      <td>14.000000</td>\n      <td>4.000000</td>\n      <td>5.0</td>\n      <td>1.000000</td>\n      <td>21998.000000</td>\n      <td>4.0</td>\n      <td>2.000000</td>\n      <td>6.000000</td>\n      <td>38.500000</td>\n      <td>42.300000</td>\n      <td>37.200000</td>\n      <td>37.400000</td>\n      <td>6.000000</td>\n    </tr>\n    <tr>\n      <th>75%</th>\n      <td>2019.500000</td>\n      <td>43085.000000</td>\n      <td>30.000000</td>\n      <td>40.000000</td>\n      <td>192.000000</td>\n      <td>192.000000</td>\n      <td>2.000000</td>\n      <td>15.300000</td>\n      <td>4.000000</td>\n      <td>5.0</td>\n      <td>2.000000</td>\n      <td>22994.000000</td>\n      <td>4.0</td>\n      <td>2.000000</td>\n      <td>6.000000</td>\n      <td>39.300000</td>\n      <td>42.400000</td>\n      <td>37.500000</td>\n      <td>38.300000</td>\n      <td>10.000000</td>\n    </tr>\n    <tr>\n      <th>max</th>\n      <td>2022.000000</td>\n      <td>97027.000000</td>\n      <td>55.000000</td>\n      <td>49.000000</td>\n      <td>288.000000</td>\n      <td>294.000000</td>\n      <td>3.500000</td>\n      <td>19.000000</td>\n      <td>6.000000</td>\n      <td>5.0</td>\n      <td>3.000000</td>\n      <td>33777.000000</td>\n      <td>4.0</td>\n      <td>4.000000</td>\n      <td>9.000000</td>\n      <td>40.400000</td>\n      <td>45.500000</td>\n      <td>38.000000</td>\n      <td>40.400000</td>\n      <td>26.000000</td>\n    </tr>\n  </tbody>\n</table>\n</div>"
     },
     "execution_count": 33,
     "metadata": {},
     "output_type": "execute_result"
    }
   ],
   "source": [
    "carros.describe()"
   ],
   "metadata": {
    "collapsed": false,
    "ExecuteTime": {
     "end_time": "2023-12-08T17:16:03.757996Z",
     "start_time": "2023-12-08T17:16:03.734659Z"
    }
   },
   "id": "710af260e81cab34"
  },
  {
   "cell_type": "code",
   "execution_count": null,
   "outputs": [],
   "source": [],
   "metadata": {
    "collapsed": false
   },
   "id": "227ea95bdb78c625"
  }
 ],
 "metadata": {
  "kernelspec": {
   "display_name": "Python 3",
   "language": "python",
   "name": "python3"
  },
  "language_info": {
   "codemirror_mode": {
    "name": "ipython",
    "version": 2
   },
   "file_extension": ".py",
   "mimetype": "text/x-python",
   "name": "python",
   "nbconvert_exporter": "python",
   "pygments_lexer": "ipython2",
   "version": "2.7.6"
  }
 },
 "nbformat": 4,
 "nbformat_minor": 5
}
